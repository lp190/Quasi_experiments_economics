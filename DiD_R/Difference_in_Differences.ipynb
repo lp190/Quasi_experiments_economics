{
 "cells": [
  {
   "cell_type": "markdown",
   "id": "80e5f0be",
   "metadata": {},
   "source": [
    "## Difference-in-differences (DID) in Economics"
   ]
  },
  {
   "cell_type": "markdown",
   "id": "e704817c",
   "metadata": {},
   "source": [
    "DiD is one of the quasi-experimental statistical techniques methods widely used in econometrics and quantitative research. In this method, observational data is used. Quasi experimental methods are crucial in estimating causal effects considering a set of assumptions, especially when randomization is not possible.\n",
    "\n",
    "In this notebook, I try to perform DiD analysis using a fictional dataset provided during the lecture. This notebook is based on the lectures on \"Quasi-Experiments in Development Economics\" by Prof. Dr. Sebastian Vollmer at the University of Göttingen.\n",
    "\n",
    "https://flexnow2.uni-goettingen.de/modulbeschreibungen/66723.pdf"
   ]
  },
  {
   "cell_type": "markdown",
   "id": "6df0495d",
   "metadata": {},
   "source": [
    "DiD is only implemented in panel data, with observation from multiple time periods and multiple units. In this notebook, I implement DiD for multiple datasets."
   ]
  },
  {
   "cell_type": "markdown",
   "id": "4b0e1edd",
   "metadata": {},
   "source": [
    "### 1. First DiD Analysis"
   ]
  },
  {
   "cell_type": "markdown",
   "id": "73e38287",
   "metadata": {},
   "source": [
    "Based on a dataset on 7 countries"
   ]
  },
  {
   "cell_type": "code",
   "execution_count": 1,
   "id": "c854f681",
   "metadata": {
    "scrolled": true
   },
   "outputs": [
    {
     "name": "stderr",
     "output_type": "stream",
     "text": [
      "Warning message:\n",
      "\"Paket 'tidyverse' wurde unter R Version 4.1.3 erstellt\"\n",
      "-- \u001b[1mAttaching packages\u001b[22m ------------------------------------------------------------------------------- tidyverse 1.3.2 --\n",
      "\n",
      "\u001b[32mv\u001b[39m \u001b[34mggplot2\u001b[39m 3.3.5     \u001b[32mv\u001b[39m \u001b[34mpurrr  \u001b[39m 0.3.4\n",
      "\u001b[32mv\u001b[39m \u001b[34mtibble \u001b[39m 3.1.6     \u001b[32mv\u001b[39m \u001b[34mdplyr  \u001b[39m 1.0.7\n",
      "\u001b[32mv\u001b[39m \u001b[34mtidyr  \u001b[39m 1.1.4     \u001b[32mv\u001b[39m \u001b[34mstringr\u001b[39m 1.4.0\n",
      "\u001b[32mv\u001b[39m \u001b[34mreadr  \u001b[39m 2.1.3     \u001b[32mv\u001b[39m \u001b[34mforcats\u001b[39m 0.5.1\n",
      "\n",
      "Warning message:\n",
      "\"Paket 'readr' wurde unter R Version 4.1.3 erstellt\"\n",
      "-- \u001b[1mConflicts\u001b[22m ---------------------------------------------------------------------------------- tidyverse_conflicts() --\n",
      "\u001b[31mx\u001b[39m \u001b[34mdplyr\u001b[39m::\u001b[32mfilter()\u001b[39m masks \u001b[34mstats\u001b[39m::filter()\n",
      "\u001b[31mx\u001b[39m \u001b[34mdplyr\u001b[39m::\u001b[32mlag()\u001b[39m    masks \u001b[34mstats\u001b[39m::lag()\n",
      "\n"
     ]
    },
    {
     "data": {
      "text/html": [
       "<style>\n",
       ".list-inline {list-style: none; margin:0; padding: 0}\n",
       ".list-inline>li {display: inline-block}\n",
       ".list-inline>li:not(:last-child)::after {content: \"\\00b7\"; padding: 0 .5ex}\n",
       "</style>\n",
       "<ol class=list-inline><li>70</li><li>9</li></ol>\n"
      ],
      "text/latex": [
       "\\begin{enumerate*}\n",
       "\\item 70\n",
       "\\item 9\n",
       "\\end{enumerate*}\n"
      ],
      "text/markdown": [
       "1. 70\n",
       "2. 9\n",
       "\n",
       "\n"
      ],
      "text/plain": [
       "[1] 70  9"
      ]
     },
     "metadata": {},
     "output_type": "display_data"
    },
    {
     "name": "stdout",
     "output_type": "stream",
     "text": [
      "Rows: 70\n",
      "Columns: 9\n",
      "$ country \u001b[3m\u001b[90m<fct>\u001b[39m\u001b[23m A, A, A, A, A, A, A, A, A, A, B, B, B, B, B, B, B, B, B, B, C,~\n",
      "$ year    \u001b[3m\u001b[90m<int>\u001b[39m\u001b[23m 1990, 1991, 1992, 1993, 1994, 1995, 1996, 1997, 1998, 1999, 19~\n",
      "$ y       \u001b[3m\u001b[90m<dbl>\u001b[39m\u001b[23m 1342787840, -1899660544, -11234363, 2645775360, 3008334848, 32~\n",
      "$ y_bin   \u001b[3m\u001b[90m<dbl>\u001b[39m\u001b[23m 1, 0, 0, 1, 1, 1, 1, 1, 1, 1, 0, 0, 0, 1, 1, 1, 1, 1, 0, 0, 0,~\n",
      "$ x1      \u001b[3m\u001b[90m<dbl>\u001b[39m\u001b[23m 0.27790365, 0.32068470, 0.36346573, 0.24614404, 0.42462304, 0.~\n",
      "$ x2      \u001b[3m\u001b[90m<dbl>\u001b[39m\u001b[23m -1.1079559, -0.9487200, -0.7894840, -0.8855330, -0.7297683, -0~\n",
      "$ x3      \u001b[3m\u001b[90m<dbl>\u001b[39m\u001b[23m 0.28255358, 0.49253848, 0.70252335, -0.09439092, 0.94613063, 1~\n",
      "$ opinion \u001b[3m\u001b[90m<fct>\u001b[39m\u001b[23m Str agree, Disag, Disag, Disag, Disag, Str agree, Disag, Str a~\n",
      "$ op      \u001b[3m\u001b[90m<dbl>\u001b[39m\u001b[23m 1, 0, 0, 0, 0, 1, 0, 1, 0, 0, 1, 1, 1, 0, 0, 0, 1, 0, 1, 0, 1,~\n"
     ]
    }
   ],
   "source": [
    "# library\n",
    "library(foreign)\n",
    "library(tidyverse)\n",
    "data1 <- read.dta(\"http://dss.princeton.edu/training/Panel101.dta\")\n",
    "\n",
    "# Check out the data\n",
    "dim(data1)\n",
    "\n",
    "# check out in a bit detail\n",
    "glimpse(data1)\n"
   ]
  },
  {
   "cell_type": "code",
   "execution_count": 2,
   "id": "2a3b146f",
   "metadata": {},
   "outputs": [
    {
     "data": {
      "text/html": [
       "<table class=\"dataframe\">\n",
       "<caption>A data.frame: 6 × 9</caption>\n",
       "<thead>\n",
       "\t<tr><th></th><th scope=col>country</th><th scope=col>year</th><th scope=col>y</th><th scope=col>y_bin</th><th scope=col>x1</th><th scope=col>x2</th><th scope=col>x3</th><th scope=col>opinion</th><th scope=col>op</th></tr>\n",
       "\t<tr><th></th><th scope=col>&lt;fct&gt;</th><th scope=col>&lt;int&gt;</th><th scope=col>&lt;dbl&gt;</th><th scope=col>&lt;dbl&gt;</th><th scope=col>&lt;dbl&gt;</th><th scope=col>&lt;dbl&gt;</th><th scope=col>&lt;dbl&gt;</th><th scope=col>&lt;fct&gt;</th><th scope=col>&lt;dbl&gt;</th></tr>\n",
       "</thead>\n",
       "<tbody>\n",
       "\t<tr><th scope=row>1</th><td>A</td><td>1990</td><td> 1342787840</td><td>1</td><td>0.2779036</td><td>-1.1079559</td><td> 0.28255358</td><td>Str agree</td><td>1</td></tr>\n",
       "\t<tr><th scope=row>2</th><td>A</td><td>1991</td><td>-1899660544</td><td>0</td><td>0.3206847</td><td>-0.9487200</td><td> 0.49253848</td><td>Disag    </td><td>0</td></tr>\n",
       "\t<tr><th scope=row>3</th><td>A</td><td>1992</td><td>  -11234363</td><td>0</td><td>0.3634657</td><td>-0.7894840</td><td> 0.70252335</td><td>Disag    </td><td>0</td></tr>\n",
       "\t<tr><th scope=row>4</th><td>A</td><td>1993</td><td> 2645775360</td><td>1</td><td>0.2461440</td><td>-0.8855330</td><td>-0.09439092</td><td>Disag    </td><td>0</td></tr>\n",
       "\t<tr><th scope=row>5</th><td>A</td><td>1994</td><td> 3008334848</td><td>1</td><td>0.4246230</td><td>-0.7297683</td><td> 0.94613063</td><td>Disag    </td><td>0</td></tr>\n",
       "\t<tr><th scope=row>6</th><td>A</td><td>1995</td><td> 3229574144</td><td>1</td><td>0.4772141</td><td>-0.7232460</td><td> 1.02968037</td><td>Str agree</td><td>1</td></tr>\n",
       "</tbody>\n",
       "</table>\n"
      ],
      "text/latex": [
       "A data.frame: 6 × 9\n",
       "\\begin{tabular}{r|lllllllll}\n",
       "  & country & year & y & y\\_bin & x1 & x2 & x3 & opinion & op\\\\\n",
       "  & <fct> & <int> & <dbl> & <dbl> & <dbl> & <dbl> & <dbl> & <fct> & <dbl>\\\\\n",
       "\\hline\n",
       "\t1 & A & 1990 &  1342787840 & 1 & 0.2779036 & -1.1079559 &  0.28255358 & Str agree & 1\\\\\n",
       "\t2 & A & 1991 & -1899660544 & 0 & 0.3206847 & -0.9487200 &  0.49253848 & Disag     & 0\\\\\n",
       "\t3 & A & 1992 &   -11234363 & 0 & 0.3634657 & -0.7894840 &  0.70252335 & Disag     & 0\\\\\n",
       "\t4 & A & 1993 &  2645775360 & 1 & 0.2461440 & -0.8855330 & -0.09439092 & Disag     & 0\\\\\n",
       "\t5 & A & 1994 &  3008334848 & 1 & 0.4246230 & -0.7297683 &  0.94613063 & Disag     & 0\\\\\n",
       "\t6 & A & 1995 &  3229574144 & 1 & 0.4772141 & -0.7232460 &  1.02968037 & Str agree & 1\\\\\n",
       "\\end{tabular}\n"
      ],
      "text/markdown": [
       "\n",
       "A data.frame: 6 × 9\n",
       "\n",
       "| <!--/--> | country &lt;fct&gt; | year &lt;int&gt; | y &lt;dbl&gt; | y_bin &lt;dbl&gt; | x1 &lt;dbl&gt; | x2 &lt;dbl&gt; | x3 &lt;dbl&gt; | opinion &lt;fct&gt; | op &lt;dbl&gt; |\n",
       "|---|---|---|---|---|---|---|---|---|---|\n",
       "| 1 | A | 1990 |  1342787840 | 1 | 0.2779036 | -1.1079559 |  0.28255358 | Str agree | 1 |\n",
       "| 2 | A | 1991 | -1899660544 | 0 | 0.3206847 | -0.9487200 |  0.49253848 | Disag     | 0 |\n",
       "| 3 | A | 1992 |   -11234363 | 0 | 0.3634657 | -0.7894840 |  0.70252335 | Disag     | 0 |\n",
       "| 4 | A | 1993 |  2645775360 | 1 | 0.2461440 | -0.8855330 | -0.09439092 | Disag     | 0 |\n",
       "| 5 | A | 1994 |  3008334848 | 1 | 0.4246230 | -0.7297683 |  0.94613063 | Disag     | 0 |\n",
       "| 6 | A | 1995 |  3229574144 | 1 | 0.4772141 | -0.7232460 |  1.02968037 | Str agree | 1 |\n",
       "\n"
      ],
      "text/plain": [
       "  country year y           y_bin x1        x2         x3          opinion   op\n",
       "1 A       1990  1342787840 1     0.2779036 -1.1079559  0.28255358 Str agree 1 \n",
       "2 A       1991 -1899660544 0     0.3206847 -0.9487200  0.49253848 Disag     0 \n",
       "3 A       1992   -11234363 0     0.3634657 -0.7894840  0.70252335 Disag     0 \n",
       "4 A       1993  2645775360 1     0.2461440 -0.8855330 -0.09439092 Disag     0 \n",
       "5 A       1994  3008334848 1     0.4246230 -0.7297683  0.94613063 Disag     0 \n",
       "6 A       1995  3229574144 1     0.4772141 -0.7232460  1.02968037 Str agree 1 "
      ]
     },
     "metadata": {},
     "output_type": "display_data"
    }
   ],
   "source": [
    "head(data1)"
   ]
  },
  {
   "cell_type": "markdown",
   "id": "89ee91c6",
   "metadata": {},
   "source": [
    "The data above consists of 7 countries named from A to G with 10 years of observation fom the year 1990 to 1999. Thus, the dimension of the dataset is *70X9*."
   ]
  },
  {
   "cell_type": "markdown",
   "id": "8b3368d6",
   "metadata": {},
   "source": [
    "*Suppose some kind of intervention began in the year 1994, for countries E, F, G. However, the remaining countries A, B, C, and D didn't receive any kind of intervention.*"
   ]
  },
  {
   "cell_type": "code",
   "execution_count": 3,
   "id": "e0fbad7f",
   "metadata": {},
   "outputs": [],
   "source": [
    "attach(data1)\n",
    "D_i <- ifelse(data1$year >= 1994, 1, 0) # timing dummy\n",
    "\n",
    "Post_t <- ifelse(data1$country == \"E\" | data1$country == \"F\" |\n",
    "                       data1$country == \"G\", 1, 0) # treatment dummy\n",
    "\n"
   ]
  },
  {
   "cell_type": "markdown",
   "id": "24bac5c7",
   "metadata": {},
   "source": [
    "#### Relevant DiD Regression Equation"
   ]
  },
  {
   "cell_type": "markdown",
   "id": "ed926679",
   "metadata": {},
   "source": [
    "$Y_{it} = \\beta_0 + \\beta_1D_i + \\beta_2Post_t + \\beta_3D_i*Post_t + \\epsilon_{it}$\n",
    "\n",
    "For untreated before 1994: $Y_{it} = \\beta_0 + \\epsilon_{it}$\n",
    "\n",
    "For untreated after 1994: $Y_{it} = \\beta_0 + \\beta_1 + \\epsilon_{it}$\n",
    "\n",
    "For treated before 1994: $ Y_{it} = \\beta_0 + \\beta_2 + \\epsilon_{it}$\n",
    "\n",
    "For treated after 1994: $Y_{it} = \\beta_0 + \\beta_1 + \\beta_2 + \\beta_3 + \\epsilon_{it}$\n"
   ]
  },
  {
   "cell_type": "code",
   "execution_count": null,
   "id": "0bfd401b",
   "metadata": {},
   "outputs": [],
   "source": []
  }
 ],
 "metadata": {
  "kernelspec": {
   "display_name": "R",
   "language": "R",
   "name": "ir"
  },
  "language_info": {
   "codemirror_mode": "r",
   "file_extension": ".r",
   "mimetype": "text/x-r-source",
   "name": "R",
   "pygments_lexer": "r",
   "version": "4.1.2"
  }
 },
 "nbformat": 4,
 "nbformat_minor": 5
}
