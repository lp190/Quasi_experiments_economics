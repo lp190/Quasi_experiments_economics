{
 "cells": [
  {
   "cell_type": "markdown",
   "id": "7e08d0ef",
   "metadata": {},
   "source": [
    "## Difference-in-differences (DID) in Economics"
   ]
  },
  {
   "cell_type": "markdown",
   "id": "f532399f",
   "metadata": {},
   "source": [
    "DiD is one of the quasi-experimental statistical techniques methods widely used in econometrics and quantitative research. In this method, observational data is used. Quasi experimental methods are crucial in estimating causal effects considering a set of assumptions, especially when randomization is not possible.\n",
    "\n",
    "In this notebook, I try to perform DiD analysis using a dataset. This notebook is based on the lectures on \"Quasi-Experiments in Development Economics\" by Prof. Dr. Sebastian Vollmer at the University of Göttingen.\n",
    "\n",
    "https://flexnow2.uni-goettingen.de/modulbeschreibungen/66723.pdf"
   ]
  },
  {
   "cell_type": "code",
   "execution_count": null,
   "id": "2bbd8e20",
   "metadata": {},
   "outputs": [],
   "source": []
  },
  {
   "cell_type": "code",
   "execution_count": null,
   "id": "226085f6",
   "metadata": {},
   "outputs": [],
   "source": []
  }
 ],
 "metadata": {
  "kernelspec": {
   "display_name": "R",
   "language": "R",
   "name": "ir"
  },
  "language_info": {
   "codemirror_mode": "r",
   "file_extension": ".r",
   "mimetype": "text/x-r-source",
   "name": "R",
   "pygments_lexer": "r",
   "version": "4.1.2"
  }
 },
 "nbformat": 4,
 "nbformat_minor": 5
}
